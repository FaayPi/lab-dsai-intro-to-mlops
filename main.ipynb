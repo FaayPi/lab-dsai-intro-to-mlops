{
 "cells": [
  {
   "cell_type": "markdown",
   "id": "19155fa0",
   "metadata": {},
   "source": [
    "# LAB | Introduction to MLOps\n",
    "\n",
    "Answer the questions,"
   ]
  },
  {
   "cell_type": "markdown",
   "id": "3671f18c",
   "metadata": {},
   "source": [
    "Data source: https://www1.nyc.gov/site/tlc/about/tlc-trip-record-data.page"
   ]
  },
  {
   "cell_type": "code",
   "execution_count": 2,
   "id": "ffbae123",
   "metadata": {},
   "outputs": [],
   "source": [
    "import pandas as pd"
   ]
  },
  {
   "cell_type": "code",
   "execution_count": 3,
   "id": "0939ec8e",
   "metadata": {},
   "outputs": [
    {
     "name": "stdout",
     "output_type": "stream",
     "text": [
      "Requirement already satisfied: pyarrow in /opt/anaconda3/envs/ai_env/lib/python3.12/site-packages (21.0.0)\n",
      "Note: you may need to restart the kernel to use updated packages.\n"
     ]
    }
   ],
   "source": [
    "pip install pyarrow"
   ]
  },
  {
   "cell_type": "code",
   "execution_count": 4,
   "id": "6a5cd385",
   "metadata": {},
   "outputs": [],
   "source": [
    "df_jan = pd.read_parquet('./data/fhv_tripdata_2021-01.parquet')\n",
    "df_feb = pd.read_parquet('./data/fhv_tripdata_2021-02.parquet')"
   ]
  },
  {
   "cell_type": "markdown",
   "id": "db2148bc",
   "metadata": {},
   "source": [
    "**Q1: Read the data for January. How many records are there?**"
   ]
  },
  {
   "cell_type": "code",
   "execution_count": 5,
   "id": "c4ce9c33",
   "metadata": {
    "scrolled": true
   },
   "outputs": [
    {
     "name": "stdout",
     "output_type": "stream",
     "text": [
      "count rows: 1154112\n"
     ]
    }
   ],
   "source": [
    "count_rows = len(df_jan)\n",
    "print(\"count rows:\", count_rows)"
   ]
  },
  {
   "cell_type": "markdown",
   "id": "53edf473",
   "metadata": {},
   "source": [
    "**Q2: What's the average trip duration in January?**"
   ]
  },
  {
   "cell_type": "code",
   "execution_count": 6,
   "id": "9c977364",
   "metadata": {},
   "outputs": [
    {
     "data": {
      "application/vnd.microsoft.datawrangler.viewer.v0+json": {
       "columns": [
        {
         "name": "index",
         "rawType": "int64",
         "type": "integer"
        },
        {
         "name": "dispatching_base_num",
         "rawType": "object",
         "type": "string"
        },
        {
         "name": "pickup_datetime",
         "rawType": "datetime64[us]",
         "type": "unknown"
        },
        {
         "name": "dropOff_datetime",
         "rawType": "datetime64[us]",
         "type": "unknown"
        },
        {
         "name": "PUlocationID",
         "rawType": "float64",
         "type": "float"
        },
        {
         "name": "DOlocationID",
         "rawType": "float64",
         "type": "float"
        },
        {
         "name": "SR_Flag",
         "rawType": "object",
         "type": "unknown"
        },
        {
         "name": "Affiliated_base_number",
         "rawType": "object",
         "type": "string"
        }
       ],
       "ref": "c1f78f85-51e3-4a86-8cd5-71e4751811cf",
       "rows": [
        [
         "0",
         "B00009",
         "2021-01-01 00:27:00",
         "2021-01-01 00:44:00",
         null,
         null,
         null,
         "B00009"
        ],
        [
         "1",
         "B00009",
         "2021-01-01 00:50:00",
         "2021-01-01 01:07:00",
         null,
         null,
         null,
         "B00009"
        ],
        [
         "2",
         "B00013",
         "2021-01-01 00:01:00",
         "2021-01-01 01:51:00",
         null,
         null,
         null,
         "B00013"
        ],
        [
         "3",
         "B00037",
         "2021-01-01 00:13:09",
         "2021-01-01 00:21:26",
         null,
         "72.0",
         null,
         "B00037"
        ],
        [
         "4",
         "B00037",
         "2021-01-01 00:38:31",
         "2021-01-01 00:53:44",
         null,
         "61.0",
         null,
         "B00037"
        ]
       ],
       "shape": {
        "columns": 7,
        "rows": 5
       }
      },
      "text/html": [
       "<div>\n",
       "<style scoped>\n",
       "    .dataframe tbody tr th:only-of-type {\n",
       "        vertical-align: middle;\n",
       "    }\n",
       "\n",
       "    .dataframe tbody tr th {\n",
       "        vertical-align: top;\n",
       "    }\n",
       "\n",
       "    .dataframe thead th {\n",
       "        text-align: right;\n",
       "    }\n",
       "</style>\n",
       "<table border=\"1\" class=\"dataframe\">\n",
       "  <thead>\n",
       "    <tr style=\"text-align: right;\">\n",
       "      <th></th>\n",
       "      <th>dispatching_base_num</th>\n",
       "      <th>pickup_datetime</th>\n",
       "      <th>dropOff_datetime</th>\n",
       "      <th>PUlocationID</th>\n",
       "      <th>DOlocationID</th>\n",
       "      <th>SR_Flag</th>\n",
       "      <th>Affiliated_base_number</th>\n",
       "    </tr>\n",
       "  </thead>\n",
       "  <tbody>\n",
       "    <tr>\n",
       "      <th>0</th>\n",
       "      <td>B00009</td>\n",
       "      <td>2021-01-01 00:27:00</td>\n",
       "      <td>2021-01-01 00:44:00</td>\n",
       "      <td>NaN</td>\n",
       "      <td>NaN</td>\n",
       "      <td>None</td>\n",
       "      <td>B00009</td>\n",
       "    </tr>\n",
       "    <tr>\n",
       "      <th>1</th>\n",
       "      <td>B00009</td>\n",
       "      <td>2021-01-01 00:50:00</td>\n",
       "      <td>2021-01-01 01:07:00</td>\n",
       "      <td>NaN</td>\n",
       "      <td>NaN</td>\n",
       "      <td>None</td>\n",
       "      <td>B00009</td>\n",
       "    </tr>\n",
       "    <tr>\n",
       "      <th>2</th>\n",
       "      <td>B00013</td>\n",
       "      <td>2021-01-01 00:01:00</td>\n",
       "      <td>2021-01-01 01:51:00</td>\n",
       "      <td>NaN</td>\n",
       "      <td>NaN</td>\n",
       "      <td>None</td>\n",
       "      <td>B00013</td>\n",
       "    </tr>\n",
       "    <tr>\n",
       "      <th>3</th>\n",
       "      <td>B00037</td>\n",
       "      <td>2021-01-01 00:13:09</td>\n",
       "      <td>2021-01-01 00:21:26</td>\n",
       "      <td>NaN</td>\n",
       "      <td>72.0</td>\n",
       "      <td>None</td>\n",
       "      <td>B00037</td>\n",
       "    </tr>\n",
       "    <tr>\n",
       "      <th>4</th>\n",
       "      <td>B00037</td>\n",
       "      <td>2021-01-01 00:38:31</td>\n",
       "      <td>2021-01-01 00:53:44</td>\n",
       "      <td>NaN</td>\n",
       "      <td>61.0</td>\n",
       "      <td>None</td>\n",
       "      <td>B00037</td>\n",
       "    </tr>\n",
       "  </tbody>\n",
       "</table>\n",
       "</div>"
      ],
      "text/plain": [
       "  dispatching_base_num     pickup_datetime    dropOff_datetime  PUlocationID  \\\n",
       "0               B00009 2021-01-01 00:27:00 2021-01-01 00:44:00           NaN   \n",
       "1               B00009 2021-01-01 00:50:00 2021-01-01 01:07:00           NaN   \n",
       "2               B00013 2021-01-01 00:01:00 2021-01-01 01:51:00           NaN   \n",
       "3               B00037 2021-01-01 00:13:09 2021-01-01 00:21:26           NaN   \n",
       "4               B00037 2021-01-01 00:38:31 2021-01-01 00:53:44           NaN   \n",
       "\n",
       "   DOlocationID SR_Flag Affiliated_base_number  \n",
       "0           NaN    None                 B00009  \n",
       "1           NaN    None                 B00009  \n",
       "2           NaN    None                 B00013  \n",
       "3          72.0    None                 B00037  \n",
       "4          61.0    None                 B00037  "
      ]
     },
     "execution_count": 6,
     "metadata": {},
     "output_type": "execute_result"
    }
   ],
   "source": [
    "# your code here\n",
    "df_jan.head()"
   ]
  },
  {
   "cell_type": "code",
   "execution_count": 10,
   "id": "bc2ec537",
   "metadata": {},
   "outputs": [
    {
     "name": "stdout",
     "output_type": "stream",
     "text": [
      "19.167224093791013\n"
     ]
    }
   ],
   "source": [
    "df_jan[\"trip_duration\"]= df_jan[\"dropOff_datetime\"] - df_jan[\"pickup_datetime\"]\n",
    "df_jan['duration_mins'] = df_jan['trip_duration'].apply(lambda td: td.total_seconds() / 60)\n",
    "average_duration = df_jan[\"duration_mins\"].mean()\n",
    "print(average_duration)"
   ]
  },
  {
   "cell_type": "markdown",
   "id": "3550dbfc",
   "metadata": {},
   "source": [
    "**Q3: How many records did you drop?**"
   ]
  },
  {
   "cell_type": "code",
   "execution_count": null,
   "id": "15c0b8a2",
   "metadata": {},
   "outputs": [
    {
     "ename": "NameError",
     "evalue": "name 'none' is not defined",
     "output_type": "error",
     "traceback": [
      "\u001b[31m---------------------------------------------------------------------------\u001b[39m",
      "\u001b[31mNameError\u001b[39m                                 Traceback (most recent call last)",
      "\u001b[36mCell\u001b[39m\u001b[36m \u001b[39m\u001b[32mIn[9]\u001b[39m\u001b[32m, line 2\u001b[39m\n\u001b[32m      1\u001b[39m \u001b[38;5;66;03m# your code here\u001b[39;00m\n\u001b[32m----> \u001b[39m\u001b[32m2\u001b[39m \u001b[43mnone\u001b[49m\n",
      "\u001b[31mNameError\u001b[39m: name 'none' is not defined"
     ]
    }
   ],
   "source": [
    "# your code here\n",
    "#none"
   ]
  },
  {
   "cell_type": "markdown",
   "id": "a664882c",
   "metadata": {},
   "source": [
    "**What's the fractions of missing values for the pickup location ID? I.e. fraction of \"-1\"s after you filled the NAs.**"
   ]
  },
  {
   "cell_type": "code",
   "execution_count": null,
   "id": "18a344da",
   "metadata": {},
   "outputs": [
    {
     "name": "stdout",
     "output_type": "stream",
     "text": [
      "Fraction of missing (as -1): 0.8303067639882438\n"
     ]
    }
   ],
   "source": [
    "# your code here\n",
    "df_jan['PUlocationID'] = df_jan['PUlocationID'].fillna(-1)\n",
    "fraction_missing = (df_jan['PUlocationID'] == -1).mean()\n",
    "print(\"Fraction of missing (as -1):\", fraction_missing)\n"
   ]
  },
  {
   "cell_type": "code",
   "execution_count": null,
   "id": "9f5a304c",
   "metadata": {},
   "outputs": [],
   "source": [
    "df_jan_wo_missing_values = df_jan[df_jan['PUlocationID'] != -1]"
   ]
  },
  {
   "cell_type": "markdown",
   "id": "73f78dcb",
   "metadata": {},
   "source": [
    "**Q5: What's the dimensionality of this matrix? (The number of columns).**"
   ]
  },
  {
   "cell_type": "code",
   "execution_count": null,
   "id": "1488c9ad",
   "metadata": {},
   "outputs": [
    {
     "name": "stdout",
     "output_type": "stream",
     "text": [
      "count columns: 8\n"
     ]
    }
   ],
   "source": [
    "# your code here\n",
    "count_columns= len(df_jan.columns)\n",
    "print(\"count columns:\", count_columns)"
   ]
  },
  {
   "cell_type": "code",
   "execution_count": 13,
   "id": "1f8f922c",
   "metadata": {},
   "outputs": [
    {
     "data": {
      "application/vnd.microsoft.datawrangler.viewer.v0+json": {
       "columns": [
        {
         "name": "index",
         "rawType": "int64",
         "type": "integer"
        },
        {
         "name": "dispatching_base_num",
         "rawType": "object",
         "type": "string"
        },
        {
         "name": "pickup_datetime",
         "rawType": "datetime64[us]",
         "type": "unknown"
        },
        {
         "name": "dropOff_datetime",
         "rawType": "datetime64[us]",
         "type": "unknown"
        },
        {
         "name": "PUlocationID",
         "rawType": "float64",
         "type": "float"
        },
        {
         "name": "DOlocationID",
         "rawType": "float64",
         "type": "float"
        },
        {
         "name": "SR_Flag",
         "rawType": "object",
         "type": "unknown"
        },
        {
         "name": "Affiliated_base_number",
         "rawType": "object",
         "type": "string"
        },
        {
         "name": "trip_duration",
         "rawType": "timedelta64[us]",
         "type": "unknown"
        },
        {
         "name": "duration_mins",
         "rawType": "float64",
         "type": "float"
        }
       ],
       "ref": "e4db9660-c57d-4a95-b25c-bad0a7e7c5a8",
       "rows": [
        [
         "0",
         "B00009",
         "2021-01-01 00:27:00",
         "2021-01-01 00:44:00",
         null,
         null,
         null,
         "B00009",
         "0 days 00:17:00",
         "17.0"
        ],
        [
         "1",
         "B00009",
         "2021-01-01 00:50:00",
         "2021-01-01 01:07:00",
         null,
         null,
         null,
         "B00009",
         "0 days 00:17:00",
         "17.0"
        ],
        [
         "2",
         "B00013",
         "2021-01-01 00:01:00",
         "2021-01-01 01:51:00",
         null,
         null,
         null,
         "B00013",
         "0 days 01:50:00",
         "110.0"
        ],
        [
         "3",
         "B00037",
         "2021-01-01 00:13:09",
         "2021-01-01 00:21:26",
         null,
         "72.0",
         null,
         "B00037",
         "0 days 00:08:17",
         "8.283333333333333"
        ],
        [
         "4",
         "B00037",
         "2021-01-01 00:38:31",
         "2021-01-01 00:53:44",
         null,
         "61.0",
         null,
         "B00037",
         "0 days 00:15:13",
         "15.216666666666667"
        ]
       ],
       "shape": {
        "columns": 9,
        "rows": 5
       }
      },
      "text/html": [
       "<div>\n",
       "<style scoped>\n",
       "    .dataframe tbody tr th:only-of-type {\n",
       "        vertical-align: middle;\n",
       "    }\n",
       "\n",
       "    .dataframe tbody tr th {\n",
       "        vertical-align: top;\n",
       "    }\n",
       "\n",
       "    .dataframe thead th {\n",
       "        text-align: right;\n",
       "    }\n",
       "</style>\n",
       "<table border=\"1\" class=\"dataframe\">\n",
       "  <thead>\n",
       "    <tr style=\"text-align: right;\">\n",
       "      <th></th>\n",
       "      <th>dispatching_base_num</th>\n",
       "      <th>pickup_datetime</th>\n",
       "      <th>dropOff_datetime</th>\n",
       "      <th>PUlocationID</th>\n",
       "      <th>DOlocationID</th>\n",
       "      <th>SR_Flag</th>\n",
       "      <th>Affiliated_base_number</th>\n",
       "      <th>trip_duration</th>\n",
       "      <th>duration_mins</th>\n",
       "    </tr>\n",
       "  </thead>\n",
       "  <tbody>\n",
       "    <tr>\n",
       "      <th>0</th>\n",
       "      <td>B00009</td>\n",
       "      <td>2021-01-01 00:27:00</td>\n",
       "      <td>2021-01-01 00:44:00</td>\n",
       "      <td>NaN</td>\n",
       "      <td>NaN</td>\n",
       "      <td>None</td>\n",
       "      <td>B00009</td>\n",
       "      <td>0 days 00:17:00</td>\n",
       "      <td>17.000000</td>\n",
       "    </tr>\n",
       "    <tr>\n",
       "      <th>1</th>\n",
       "      <td>B00009</td>\n",
       "      <td>2021-01-01 00:50:00</td>\n",
       "      <td>2021-01-01 01:07:00</td>\n",
       "      <td>NaN</td>\n",
       "      <td>NaN</td>\n",
       "      <td>None</td>\n",
       "      <td>B00009</td>\n",
       "      <td>0 days 00:17:00</td>\n",
       "      <td>17.000000</td>\n",
       "    </tr>\n",
       "    <tr>\n",
       "      <th>2</th>\n",
       "      <td>B00013</td>\n",
       "      <td>2021-01-01 00:01:00</td>\n",
       "      <td>2021-01-01 01:51:00</td>\n",
       "      <td>NaN</td>\n",
       "      <td>NaN</td>\n",
       "      <td>None</td>\n",
       "      <td>B00013</td>\n",
       "      <td>0 days 01:50:00</td>\n",
       "      <td>110.000000</td>\n",
       "    </tr>\n",
       "    <tr>\n",
       "      <th>3</th>\n",
       "      <td>B00037</td>\n",
       "      <td>2021-01-01 00:13:09</td>\n",
       "      <td>2021-01-01 00:21:26</td>\n",
       "      <td>NaN</td>\n",
       "      <td>72.0</td>\n",
       "      <td>None</td>\n",
       "      <td>B00037</td>\n",
       "      <td>0 days 00:08:17</td>\n",
       "      <td>8.283333</td>\n",
       "    </tr>\n",
       "    <tr>\n",
       "      <th>4</th>\n",
       "      <td>B00037</td>\n",
       "      <td>2021-01-01 00:38:31</td>\n",
       "      <td>2021-01-01 00:53:44</td>\n",
       "      <td>NaN</td>\n",
       "      <td>61.0</td>\n",
       "      <td>None</td>\n",
       "      <td>B00037</td>\n",
       "      <td>0 days 00:15:13</td>\n",
       "      <td>15.216667</td>\n",
       "    </tr>\n",
       "  </tbody>\n",
       "</table>\n",
       "</div>"
      ],
      "text/plain": [
       "  dispatching_base_num     pickup_datetime    dropOff_datetime  PUlocationID  \\\n",
       "0               B00009 2021-01-01 00:27:00 2021-01-01 00:44:00           NaN   \n",
       "1               B00009 2021-01-01 00:50:00 2021-01-01 01:07:00           NaN   \n",
       "2               B00013 2021-01-01 00:01:00 2021-01-01 01:51:00           NaN   \n",
       "3               B00037 2021-01-01 00:13:09 2021-01-01 00:21:26           NaN   \n",
       "4               B00037 2021-01-01 00:38:31 2021-01-01 00:53:44           NaN   \n",
       "\n",
       "   DOlocationID SR_Flag Affiliated_base_number   trip_duration  duration_mins  \n",
       "0           NaN    None                 B00009 0 days 00:17:00      17.000000  \n",
       "1           NaN    None                 B00009 0 days 00:17:00      17.000000  \n",
       "2           NaN    None                 B00013 0 days 01:50:00     110.000000  \n",
       "3          72.0    None                 B00037 0 days 00:08:17       8.283333  \n",
       "4          61.0    None                 B00037 0 days 00:15:13      15.216667  "
      ]
     },
     "execution_count": 13,
     "metadata": {},
     "output_type": "execute_result"
    }
   ],
   "source": [
    "df_jan.head()"
   ]
  },
  {
   "cell_type": "markdown",
   "id": "74cf3bdd",
   "metadata": {},
   "source": [
    "**Q6: What's the RMSE on train?**"
   ]
  },
  {
   "cell_type": "code",
   "execution_count": 22,
   "id": "f0af662d",
   "metadata": {
    "scrolled": true
   },
   "outputs": [
    {
     "name": "stdout",
     "output_type": "stream",
     "text": [
      "Test RMSE: 883.9988\n"
     ]
    }
   ],
   "source": [
    "from sklearn.model_selection import train_test_split\n",
    "from sklearn.linear_model import LinearRegression\n",
    "from sklearn.metrics import mean_squared_error\n",
    "import numpy as np\n",
    "\n",
    "# Feature und Target\n",
    "X = (df_jan[\"dropOff_datetime\"].astype('int64') // 10**9) / 60\n",
    "X = X.values.reshape(-1, 1)   # wichtig: 2D-Array für sklearn\n",
    "y = df_jan['duration_mins']\n",
    "\n",
    "# 🔹 1. Train-Test-Split (z. B. 80 % Training, 20 % Test)\n",
    "X_train, X_test, y_train, y_test = train_test_split(\n",
    "    X, y, test_size=0.2, random_state=42\n",
    ")\n",
    "\n",
    "# 🔹 2. Modell trainieren\n",
    "lin_reg = LinearRegression()\n",
    "lin_reg.fit(X_train, y_train)\n",
    "\n",
    "# 🔹 3. Vorhersagen und RMSE berechnen\n",
    "y_pred = lin_reg.predict(X_test)\n",
    "rmse = np.sqrt(mean_squared_error(y_test, y_pred))\n",
    "\n",
    "print(f\"Test RMSE: {rmse:.4f}\")\n",
    "\n",
    "\n",
    "def preprocess_datetime(df, datetime_col='dropOff_datetime'):\n",
    "    \"\"\"\n",
    "    Wandelt eine Datetime-Spalte in numerische Features um,\n",
    "    z.B. Minuten seit Unix-Epoche oder Stunden/Wochentage.\n",
    "    \n",
    "    Parameters:\n",
    "        df (pd.DataFrame): Eingabedaten\n",
    "        datetime_col (str): Name der Datetime-Spalte\n",
    "    \n",
    "    Returns:\n",
    "        np.ndarray: 2D-Array mit numerischen Features\n",
    "    \"\"\"\n",
    "    # Minuten seit Unix-Epoche\n",
    "    X = (df[datetime_col].astype('int64') // 10**9) / 60\n",
    "    X = X.values.reshape(-1, 1)\n",
    "    return X\n",
    "\n"
   ]
  },
  {
   "cell_type": "markdown",
   "id": "db143f0c",
   "metadata": {},
   "source": [
    "Now, let's put data preprocssing steps in a function so that we can process the validation set in the same way as well."
   ]
  },
  {
   "cell_type": "code",
   "execution_count": null,
   "id": "1906e10e",
   "metadata": {},
   "outputs": [
    {
     "name": "stdout",
     "output_type": "stream",
     "text": [
      "Validation RMSE: 883.9988\n"
     ]
    }
   ],
   "source": [
    "# your code here\n",
    "from sklearn.model_selection import train_test_split\n",
    "from sklearn.linear_model import LinearRegression\n",
    "from sklearn.metrics import mean_squared_error\n",
    "\n",
    "# Zielvariable\n",
    "y = df_jan['duration_mins']\n",
    "\n",
    "# Train-Test-Split\n",
    "df_train, df_val, y_train, y_val = train_test_split(\n",
    "    df_jan, y, test_size=0.2, random_state=42\n",
    ")\n",
    "\n",
    "# Feature-Engineering mit der Funktion\n",
    "X_train = preprocess_datetime(df_train, 'dropOff_datetime')\n",
    "X_val = preprocess_datetime(df_val, 'dropOff_datetime')\n",
    "\n",
    "# Modell trainieren\n",
    "lin_reg = LinearRegression()\n",
    "lin_reg.fit(X_train, y_train)\n",
    "\n",
    "# Vorhersagen\n",
    "y_pred = lin_reg.predict(X_val)\n",
    "\n",
    "\n"
   ]
  },
  {
   "cell_type": "markdown",
   "id": "232b8068",
   "metadata": {},
   "source": [
    "**Q7: What's the RMSE on validation?**"
   ]
  },
  {
   "cell_type": "code",
   "execution_count": 24,
   "id": "6b2aa8e7",
   "metadata": {},
   "outputs": [
    {
     "name": "stdout",
     "output_type": "stream",
     "text": [
      "Validation RMSE: 883.9988\n"
     ]
    }
   ],
   "source": [
    "# RMSE berechnen\n",
    "rmse = np.sqrt(mean_squared_error(y_val, y_pred))\n",
    "print(f\"Validation RMSE: {rmse:.4f}\")"
   ]
  },
  {
   "cell_type": "markdown",
   "id": "01a0bf73",
   "metadata": {},
   "source": [
    "## Why to use MLOps as we learn from this excercise ##"
   ]
  },
  {
   "cell_type": "code",
   "execution_count": null,
   "id": "c4422206",
   "metadata": {},
   "outputs": [],
   "source": [
    "# your answer here"
   ]
  },
  {
   "cell_type": "markdown",
   "id": "8dca5629",
   "metadata": {},
   "source": [
    "## BONUS: \n",
    "\n",
    "Now, try and run this notebook on AWS Instance"
   ]
  },
  {
   "cell_type": "markdown",
   "id": "db11f7cf",
   "metadata": {},
   "source": []
  }
 ],
 "metadata": {
  "kernelspec": {
   "display_name": "ai_env",
   "language": "python",
   "name": "python3"
  },
  "language_info": {
   "codemirror_mode": {
    "name": "ipython",
    "version": 3
   },
   "file_extension": ".py",
   "mimetype": "text/x-python",
   "name": "python",
   "nbconvert_exporter": "python",
   "pygments_lexer": "ipython3",
   "version": "3.12.11"
  }
 },
 "nbformat": 4,
 "nbformat_minor": 5
}
